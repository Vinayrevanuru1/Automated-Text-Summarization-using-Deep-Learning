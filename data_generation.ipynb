{
 "cells": [
  {
   "cell_type": "code",
   "execution_count": 3,
   "metadata": {},
   "outputs": [],
   "source": [
    "\n",
    "import pandas as pd"
   ]
  },
  {
   "cell_type": "code",
   "execution_count": 4,
   "metadata": {},
   "outputs": [],
   "source": [
    "import numpy as np"
   ]
  },
  {
   "cell_type": "code",
   "execution_count": 5,
   "metadata": {},
   "outputs": [],
   "source": [
    "import matplotlib.pyplot as plt"
   ]
  },
  {
   "cell_type": "code",
   "execution_count": 5,
   "metadata": {},
   "outputs": [
    {
     "data": {
      "text/plain": [
       "'f:\\\\deeplearning_project\\\\.cache'"
      ]
     },
     "execution_count": 5,
     "metadata": {},
     "output_type": "execute_result"
    }
   ],
   "source": [
    "import os \n",
    "\n",
    "os.getenv('TRANSFORMERS_CACHE')"
   ]
  },
  {
   "cell_type": "code",
   "execution_count": 4,
   "metadata": {},
   "outputs": [],
   "source": [
    "#get current working directory\n",
    "cwd = os.getcwd()"
   ]
  },
  {
   "cell_type": "code",
   "execution_count": 3,
   "metadata": {},
   "outputs": [],
   "source": [
    "os.environ['TRANSFORMERS_CACHE'] = 'f:\\deeplearning_project\\.cache'"
   ]
  },
  {
   "cell_type": "code",
   "execution_count": 1,
   "metadata": {},
   "outputs": [
    {
     "name": "stdout",
     "output_type": "stream",
     "text": [
      "cuda\n"
     ]
    }
   ],
   "source": [
    "import torch\n",
    "\n",
    "#check if cuda is available else use cpu\n",
    "device = torch.device('cuda' if torch.cuda.is_available() else 'cpu')\n",
    "print(device)"
   ]
  },
  {
   "cell_type": "code",
   "execution_count": 8,
   "metadata": {},
   "outputs": [
    {
     "name": "stdout",
     "output_type": "stream",
     "text": [
      "Looking in links: https://download.pytorch.org/whl/torch_stable.html\n",
      "Collecting torch==1.10.1+cu102\n",
      "  Downloading https://download.pytorch.org/whl/cu102/torch-1.10.1%2Bcu102-cp37-cp37m-win_amd64.whl (1486.0 MB)\n",
      "     ---------------------------------------- 1.5/1.5 GB 1.1 MB/s eta 0:00:00\n",
      "Collecting torchvision==0.11.2+cu102\n",
      "  Downloading https://download.pytorch.org/whl/cu102/torchvision-0.11.2%2Bcu102-cp37-cp37m-win_amd64.whl (2.6 MB)\n",
      "     ---------------------------------------- 2.6/2.6 MB 5.4 MB/s eta 0:00:00\n",
      "Collecting torchaudio==0.10.1+cu102\n",
      "  Downloading https://download.pytorch.org/whl/cu102/torchaudio-0.10.1%2Bcu102-cp37-cp37m-win_amd64.whl (336 kB)\n",
      "     -------------------------------------- 336.6/336.6 kB 4.2 MB/s eta 0:00:00\n",
      "Requirement already satisfied: typing-extensions in .\\dl_project\\lib\\site-packages (from torch==1.10.1+cu102) (4.1.1)\n",
      "Requirement already satisfied: numpy in .\\dl_project\\lib\\site-packages (from torchvision==0.11.2+cu102) (1.21.6)\n",
      "Requirement already satisfied: pillow!=8.3.0,>=5.3.0 in .\\dl_project\\lib\\site-packages (from torchvision==0.11.2+cu102) (9.5.0)\n",
      "Installing collected packages: torch, torchvision, torchaudio\n",
      "Successfully installed torch-1.10.1+cu102 torchaudio-0.10.1+cu102 torchvision-0.11.2+cu102\n"
     ]
    }
   ],
   "source": [
    "!pip install torch==1.10.1+cu102 torchvision==0.11.2+cu102 torchaudio==0.10.1+cu102 -f https://download.pytorch.org/whl/torch_stable.html"
   ]
  },
  {
   "cell_type": "code",
   "execution_count": 11,
   "metadata": {},
   "outputs": [
    {
     "name": "stdout",
     "output_type": "stream",
     "text": [
      "Collecting tensorflow==2.10.1\n",
      "  Downloading tensorflow-2.10.1-cp37-cp37m-win_amd64.whl (455.9 MB)\n",
      "     -------------------------------------- 455.9/455.9 MB 3.0 MB/s eta 0:00:00\n",
      "Collecting absl-py>=1.0.0 (from tensorflow==2.10.1)\n",
      "  Obtaining dependency information for absl-py>=1.0.0 from https://files.pythonhosted.org/packages/01/e4/dc0a1dcc4e74e08d7abedab278c795eef54a224363bb18f5692f416d834f/absl_py-2.0.0-py3-none-any.whl.metadata\n",
      "  Downloading absl_py-2.0.0-py3-none-any.whl.metadata (2.3 kB)\n",
      "Collecting astunparse>=1.6.0 (from tensorflow==2.10.1)\n",
      "  Using cached astunparse-1.6.3-py2.py3-none-any.whl (12 kB)\n",
      "Collecting flatbuffers>=2.0 (from tensorflow==2.10.1)\n",
      "  Obtaining dependency information for flatbuffers>=2.0 from https://files.pythonhosted.org/packages/6f/12/d5c79ee252793ffe845d58a913197bfa02ae9a0b5c9bc3dc4b58d477b9e7/flatbuffers-23.5.26-py2.py3-none-any.whl.metadata\n",
      "  Downloading flatbuffers-23.5.26-py2.py3-none-any.whl.metadata (850 bytes)\n",
      "Collecting gast<=0.4.0,>=0.2.1 (from tensorflow==2.10.1)\n",
      "  Using cached gast-0.4.0-py3-none-any.whl (9.8 kB)\n",
      "Collecting google-pasta>=0.1.1 (from tensorflow==2.10.1)\n",
      "  Using cached google_pasta-0.2.0-py3-none-any.whl (57 kB)\n",
      "Collecting h5py>=2.9.0 (from tensorflow==2.10.1)\n",
      "  Downloading h5py-3.8.0-cp37-cp37m-win_amd64.whl (2.6 MB)\n",
      "     ---------------------------------------- 2.6/2.6 MB 6.0 MB/s eta 0:00:00\n",
      "Collecting keras-preprocessing>=1.1.1 (from tensorflow==2.10.1)\n",
      "  Using cached Keras_Preprocessing-1.1.2-py2.py3-none-any.whl (42 kB)\n",
      "Collecting libclang>=13.0.0 (from tensorflow==2.10.1)\n",
      "  Obtaining dependency information for libclang>=13.0.0 from https://files.pythonhosted.org/packages/02/8c/dc970bc00867fe290e8c8a7befa1635af716a9ebdfe3fb9dce0ca4b522ce/libclang-16.0.6-py2.py3-none-win_amd64.whl.metadata\n",
      "  Downloading libclang-16.0.6-py2.py3-none-win_amd64.whl.metadata (5.3 kB)\n",
      "Requirement already satisfied: numpy>=1.20 in .\\dl_project\\lib\\site-packages (from tensorflow==2.10.1) (1.21.6)\n",
      "Collecting opt-einsum>=2.3.2 (from tensorflow==2.10.1)\n",
      "  Using cached opt_einsum-3.3.0-py3-none-any.whl (65 kB)\n",
      "Requirement already satisfied: packaging in .\\dl_project\\lib\\site-packages (from tensorflow==2.10.1) (23.2)\n",
      "Collecting protobuf<3.20,>=3.9.2 (from tensorflow==2.10.1)\n",
      "  Downloading protobuf-3.19.6-cp37-cp37m-win_amd64.whl (896 kB)\n",
      "     -------------------------------------- 896.6/896.6 kB 6.3 MB/s eta 0:00:00\n",
      "Requirement already satisfied: setuptools in .\\dl_project\\lib\\site-packages (from tensorflow==2.10.1) (68.2.2)\n",
      "Requirement already satisfied: six>=1.12.0 in .\\dl_project\\lib\\site-packages (from tensorflow==2.10.1) (1.16.0)\n",
      "Collecting termcolor>=1.1.0 (from tensorflow==2.10.1)\n",
      "  Downloading termcolor-2.3.0-py3-none-any.whl (6.9 kB)\n",
      "Requirement already satisfied: typing-extensions>=3.6.6 in .\\dl_project\\lib\\site-packages (from tensorflow==2.10.1) (4.1.1)\n",
      "Collecting wrapt>=1.11.0 (from tensorflow==2.10.1)\n",
      "  Downloading wrapt-1.15.0-cp37-cp37m-win_amd64.whl (35 kB)\n",
      "Collecting tensorflow-io-gcs-filesystem>=0.23.1 (from tensorflow==2.10.1)\n",
      "  Downloading tensorflow_io_gcs_filesystem-0.31.0-cp37-cp37m-win_amd64.whl (1.5 MB)\n",
      "     ---------------------------------------- 1.5/1.5 MB 5.9 MB/s eta 0:00:00\n",
      "Collecting grpcio<2.0,>=1.24.3 (from tensorflow==2.10.1)\n",
      "  Obtaining dependency information for grpcio<2.0,>=1.24.3 from https://files.pythonhosted.org/packages/f2/1e/244d90b71acb48d430d12d947cd81043f4dc5c08e5f9910f2cd3abc39f2c/grpcio-1.59.0-cp37-cp37m-win_amd64.whl.metadata\n",
      "  Downloading grpcio-1.59.0-cp37-cp37m-win_amd64.whl.metadata (4.2 kB)\n",
      "Collecting tensorboard<2.11,>=2.10 (from tensorflow==2.10.1)\n",
      "  Using cached tensorboard-2.10.1-py3-none-any.whl (5.9 MB)\n",
      "Collecting tensorflow-estimator<2.11,>=2.10.0 (from tensorflow==2.10.1)\n",
      "  Using cached tensorflow_estimator-2.10.0-py2.py3-none-any.whl (438 kB)\n",
      "Collecting keras<2.11,>=2.10.0 (from tensorflow==2.10.1)\n",
      "  Using cached keras-2.10.0-py2.py3-none-any.whl (1.7 MB)\n",
      "Requirement already satisfied: wheel<1.0,>=0.23.0 in .\\dl_project\\lib\\site-packages (from astunparse>=1.6.0->tensorflow==2.10.1) (0.41.2)\n",
      "Collecting google-auth<3,>=1.6.3 (from tensorboard<2.11,>=2.10->tensorflow==2.10.1)\n",
      "  Obtaining dependency information for google-auth<3,>=1.6.3 from https://files.pythonhosted.org/packages/39/7c/2e4fa55a99f83ef9ef229ac5d59c44ceb90e2d0145711590c0fa39669f32/google_auth-2.23.3-py2.py3-none-any.whl.metadata\n",
      "  Downloading google_auth-2.23.3-py2.py3-none-any.whl.metadata (4.2 kB)\n",
      "Collecting google-auth-oauthlib<0.5,>=0.4.1 (from tensorboard<2.11,>=2.10->tensorflow==2.10.1)\n",
      "  Using cached google_auth_oauthlib-0.4.6-py2.py3-none-any.whl (18 kB)\n",
      "Collecting markdown>=2.6.8 (from tensorboard<2.11,>=2.10->tensorflow==2.10.1)\n",
      "  Obtaining dependency information for markdown>=2.6.8 from https://files.pythonhosted.org/packages/1a/b5/228c1cdcfe138f1a8e01ab1b54284c8b83735476cb22b6ba251656ed13ad/Markdown-3.4.4-py3-none-any.whl.metadata\n",
      "  Downloading Markdown-3.4.4-py3-none-any.whl.metadata (6.9 kB)\n",
      "Requirement already satisfied: requests<3,>=2.21.0 in .\\dl_project\\lib\\site-packages (from tensorboard<2.11,>=2.10->tensorflow==2.10.1) (2.31.0)\n",
      "Collecting tensorboard-data-server<0.7.0,>=0.6.0 (from tensorboard<2.11,>=2.10->tensorflow==2.10.1)\n",
      "  Using cached tensorboard_data_server-0.6.1-py3-none-any.whl (2.4 kB)\n",
      "Collecting tensorboard-plugin-wit>=1.6.0 (from tensorboard<2.11,>=2.10->tensorflow==2.10.1)\n",
      "  Using cached tensorboard_plugin_wit-1.8.1-py3-none-any.whl (781 kB)\n",
      "Collecting werkzeug>=1.0.1 (from tensorboard<2.11,>=2.10->tensorflow==2.10.1)\n",
      "  Downloading Werkzeug-2.2.3-py3-none-any.whl (233 kB)\n",
      "     -------------------------------------- 233.6/233.6 kB 4.8 MB/s eta 0:00:00\n",
      "Collecting cachetools<6.0,>=2.0.0 (from google-auth<3,>=1.6.3->tensorboard<2.11,>=2.10->tensorflow==2.10.1)\n",
      "  Obtaining dependency information for cachetools<6.0,>=2.0.0 from https://files.pythonhosted.org/packages/a2/91/2d843adb9fbd911e0da45fbf6f18ca89d07a087c3daa23e955584f90ebf4/cachetools-5.3.2-py3-none-any.whl.metadata\n",
      "  Downloading cachetools-5.3.2-py3-none-any.whl.metadata (5.2 kB)\n",
      "Collecting pyasn1-modules>=0.2.1 (from google-auth<3,>=1.6.3->tensorboard<2.11,>=2.10->tensorflow==2.10.1)\n",
      "  Using cached pyasn1_modules-0.3.0-py2.py3-none-any.whl (181 kB)\n",
      "Collecting rsa<5,>=3.1.4 (from google-auth<3,>=1.6.3->tensorboard<2.11,>=2.10->tensorflow==2.10.1)\n",
      "  Using cached rsa-4.9-py3-none-any.whl (34 kB)\n",
      "Collecting requests-oauthlib>=0.7.0 (from google-auth-oauthlib<0.5,>=0.4.1->tensorboard<2.11,>=2.10->tensorflow==2.10.1)\n",
      "  Using cached requests_oauthlib-1.3.1-py2.py3-none-any.whl (23 kB)\n",
      "Requirement already satisfied: importlib-metadata>=4.4 in .\\dl_project\\lib\\site-packages (from markdown>=2.6.8->tensorboard<2.11,>=2.10->tensorflow==2.10.1) (6.7.0)\n",
      "Requirement already satisfied: charset-normalizer<4,>=2 in .\\dl_project\\lib\\site-packages (from requests<3,>=2.21.0->tensorboard<2.11,>=2.10->tensorflow==2.10.1) (3.3.0)\n",
      "Requirement already satisfied: idna<4,>=2.5 in .\\dl_project\\lib\\site-packages (from requests<3,>=2.21.0->tensorboard<2.11,>=2.10->tensorflow==2.10.1) (3.4)\n",
      "Requirement already satisfied: urllib3<3,>=1.21.1 in .\\dl_project\\lib\\site-packages (from requests<3,>=2.21.0->tensorboard<2.11,>=2.10->tensorflow==2.10.1) (1.26.17)\n",
      "Requirement already satisfied: certifi>=2017.4.17 in .\\dl_project\\lib\\site-packages (from requests<3,>=2.21.0->tensorboard<2.11,>=2.10->tensorflow==2.10.1) (2023.7.22)\n",
      "Requirement already satisfied: MarkupSafe>=2.1.1 in .\\dl_project\\lib\\site-packages (from werkzeug>=1.0.1->tensorboard<2.11,>=2.10->tensorflow==2.10.1) (2.1.3)\n",
      "Requirement already satisfied: zipp>=0.5 in .\\dl_project\\lib\\site-packages (from importlib-metadata>=4.4->markdown>=2.6.8->tensorboard<2.11,>=2.10->tensorflow==2.10.1) (3.15.0)\n",
      "Collecting pyasn1<0.6.0,>=0.4.6 (from pyasn1-modules>=0.2.1->google-auth<3,>=1.6.3->tensorboard<2.11,>=2.10->tensorflow==2.10.1)\n",
      "  Using cached pyasn1-0.5.0-py2.py3-none-any.whl (83 kB)\n",
      "Collecting oauthlib>=3.0.0 (from requests-oauthlib>=0.7.0->google-auth-oauthlib<0.5,>=0.4.1->tensorboard<2.11,>=2.10->tensorflow==2.10.1)\n",
      "  Using cached oauthlib-3.2.2-py3-none-any.whl (151 kB)\n",
      "Downloading absl_py-2.0.0-py3-none-any.whl (130 kB)\n",
      "   ---------------------------------------- 130.2/130.2 kB 8.0 MB/s eta 0:00:00\n",
      "Downloading flatbuffers-23.5.26-py2.py3-none-any.whl (26 kB)\n",
      "Downloading grpcio-1.59.0-cp37-cp37m-win_amd64.whl (4.3 MB)\n",
      "   ---------------------------------------- 4.3/4.3 MB 6.3 MB/s eta 0:00:00\n",
      "Downloading libclang-16.0.6-py2.py3-none-win_amd64.whl (24.4 MB)\n",
      "   ---------------------------------------- 24.4/24.4 MB 5.3 MB/s eta 0:00:00\n",
      "Downloading google_auth-2.23.3-py2.py3-none-any.whl (182 kB)\n",
      "   ---------------------------------------- 182.3/182.3 kB 3.7 MB/s eta 0:00:00\n",
      "Downloading Markdown-3.4.4-py3-none-any.whl (94 kB)\n",
      "   ---------------------------------------- 94.2/94.2 kB 2.7 MB/s eta 0:00:00\n",
      "Downloading cachetools-5.3.2-py3-none-any.whl (9.3 kB)\n",
      "Installing collected packages: tensorboard-plugin-wit, libclang, keras, flatbuffers, wrapt, werkzeug, termcolor, tensorflow-io-gcs-filesystem, tensorflow-estimator, tensorboard-data-server, pyasn1, protobuf, opt-einsum, oauthlib, keras-preprocessing, h5py, grpcio, google-pasta, gast, cachetools, astunparse, absl-py, rsa, requests-oauthlib, pyasn1-modules, markdown, google-auth, google-auth-oauthlib, tensorboard, tensorflow\n",
      "  Attempting uninstall: protobuf\n",
      "    Found existing installation: protobuf 4.24.4\n",
      "    Uninstalling protobuf-4.24.4:\n",
      "      Successfully uninstalled protobuf-4.24.4\n",
      "Successfully installed absl-py-2.0.0 astunparse-1.6.3 cachetools-5.3.2 flatbuffers-23.5.26 gast-0.4.0 google-auth-2.23.3 google-auth-oauthlib-0.4.6 google-pasta-0.2.0 grpcio-1.59.0 h5py-3.8.0 keras-2.10.0 keras-preprocessing-1.1.2 libclang-16.0.6 markdown-3.4.4 oauthlib-3.2.2 opt-einsum-3.3.0 protobuf-3.19.6 pyasn1-0.5.0 pyasn1-modules-0.3.0 requests-oauthlib-1.3.1 rsa-4.9 tensorboard-2.10.1 tensorboard-data-server-0.6.1 tensorboard-plugin-wit-1.8.1 tensorflow-2.10.1 tensorflow-estimator-2.10.0 tensorflow-io-gcs-filesystem-0.31.0 termcolor-2.3.0 werkzeug-2.2.3 wrapt-1.15.0\n"
     ]
    }
   ],
   "source": [
    "!pip install tensorflow==2.10.1"
   ]
  },
  {
   "cell_type": "code",
   "execution_count": 15,
   "metadata": {},
   "outputs": [],
   "source": []
  },
  {
   "cell_type": "code",
   "execution_count": 10,
   "metadata": {},
   "outputs": [
    {
     "data": {
      "text/html": [
       "\n",
       "        <iframe\n",
       "            width=\"100%\"\n",
       "            height=\"650\"\n",
       "            src=\"http://127.0.0.1:8050/\"\n",
       "            frameborder=\"0\"\n",
       "            allowfullscreen\n",
       "            \n",
       "        ></iframe>\n",
       "        "
      ],
      "text/plain": [
       "<IPython.lib.display.IFrame at 0x2a311862348>"
      ]
     },
     "metadata": {},
     "output_type": "display_data"
    }
   ],
   "source": [
    "from dash import Dash, html, dcc, callback, Output, Input\n",
    "import plotly.express as px\n",
    "import pandas as pd\n",
    "\n",
    "df = pd.read_csv('https://raw.githubusercontent.com/plotly/datasets/master/gapminder_unfiltered.csv')\n",
    "\n",
    "app = Dash(__name__)\n",
    "app.title = 'Dash App'\n",
    "\n",
    "app.layout = html.Div([\n",
    "    html.H1(children='Title of Dash App', style={'textAlign':'center'}),\n",
    "    dcc.Dropdown(df.country.unique(), 'Canada', id='dropdown-selection'),\n",
    "    dcc.Graph(id='graph-content')\n",
    "])\n",
    "\n",
    "@callback(\n",
    "    Output('graph-content', 'figure'),\n",
    "    Input('dropdown-selection', 'value')\n",
    ")\n",
    "def update_graph(value):\n",
    "    dff = df[df.country==value]\n",
    "    return px.line(dff, x='year', y='pop')\n",
    "\n",
    "if __name__ == '__main__':\n",
    "    app.run(debug=True)\n"
   ]
  },
  {
   "cell_type": "code",
   "execution_count": 6,
   "metadata": {},
   "outputs": [
    {
     "name": "stdout",
     "output_type": "stream",
     "text": [
      "Collecting dash\n",
      "  Obtaining dependency information for dash from https://files.pythonhosted.org/packages/00/69/d0ee9c6524678e98d336464d5c898182794c6b2ba1e5507bc7010a126ce2/dash-2.14.1-py3-none-any.whl.metadata\n",
      "  Downloading dash-2.14.1-py3-none-any.whl.metadata (11 kB)\n",
      "Collecting Flask<3.1,>=1.0.4 (from dash)\n",
      "  Using cached Flask-2.2.5-py3-none-any.whl (101 kB)\n",
      "Requirement already satisfied: Werkzeug<3.1 in .\\dl_project\\lib\\site-packages (from dash) (2.2.3)\n",
      "Collecting plotly>=5.0.0 (from dash)\n",
      "  Obtaining dependency information for plotly>=5.0.0 from https://files.pythonhosted.org/packages/a8/07/72953cf70e3bd3a24cbc3e743e6f8539abe6e3e6d83c3c0c83426eaffd39/plotly-5.18.0-py3-none-any.whl.metadata\n",
      "  Downloading plotly-5.18.0-py3-none-any.whl.metadata (7.0 kB)\n",
      "Collecting dash-html-components==2.0.0 (from dash)\n",
      "  Using cached dash_html_components-2.0.0-py3-none-any.whl (4.1 kB)\n",
      "Collecting dash-core-components==2.0.0 (from dash)\n",
      "  Using cached dash_core_components-2.0.0-py3-none-any.whl (3.8 kB)\n",
      "Collecting dash-table==5.0.0 (from dash)\n",
      "  Using cached dash_table-5.0.0-py3-none-any.whl (3.9 kB)\n",
      "Requirement already satisfied: typing-extensions>=4.1.1 in .\\dl_project\\lib\\site-packages (from dash) (4.1.1)\n",
      "Requirement already satisfied: requests in .\\dl_project\\lib\\site-packages (from dash) (2.31.0)\n",
      "Collecting retrying (from dash)\n",
      "  Using cached retrying-1.3.4-py3-none-any.whl (11 kB)\n",
      "Collecting ansi2html (from dash)\n",
      "  Using cached ansi2html-1.8.0-py3-none-any.whl (16 kB)\n",
      "Requirement already satisfied: nest-asyncio in .\\dl_project\\lib\\site-packages (from dash) (1.5.8)\n",
      "Requirement already satisfied: setuptools in .\\dl_project\\lib\\site-packages (from dash) (68.2.2)\n",
      "Requirement already satisfied: importlib-metadata in .\\dl_project\\lib\\site-packages (from dash) (6.7.0)\n",
      "Requirement already satisfied: Jinja2>=3.0 in .\\dl_project\\lib\\site-packages (from Flask<3.1,>=1.0.4->dash) (3.1.2)\n",
      "Collecting itsdangerous>=2.0 (from Flask<3.1,>=1.0.4->dash)\n",
      "  Using cached itsdangerous-2.1.2-py3-none-any.whl (15 kB)\n",
      "Requirement already satisfied: click>=8.0 in .\\dl_project\\lib\\site-packages (from Flask<3.1,>=1.0.4->dash) (8.1.7)\n",
      "Requirement already satisfied: zipp>=0.5 in .\\dl_project\\lib\\site-packages (from importlib-metadata->dash) (3.15.0)\n",
      "Collecting tenacity>=6.2.0 (from plotly>=5.0.0->dash)\n",
      "  Obtaining dependency information for tenacity>=6.2.0 from https://files.pythonhosted.org/packages/f4/f1/990741d5bb2487d529d20a433210ffa136a367751e454214013b441c4575/tenacity-8.2.3-py3-none-any.whl.metadata\n",
      "  Downloading tenacity-8.2.3-py3-none-any.whl.metadata (1.0 kB)\n",
      "Requirement already satisfied: packaging in .\\dl_project\\lib\\site-packages (from plotly>=5.0.0->dash) (23.2)\n",
      "Requirement already satisfied: MarkupSafe>=2.1.1 in .\\dl_project\\lib\\site-packages (from Werkzeug<3.1->dash) (2.1.3)\n",
      "Requirement already satisfied: charset-normalizer<4,>=2 in .\\dl_project\\lib\\site-packages (from requests->dash) (3.3.0)\n",
      "Requirement already satisfied: idna<4,>=2.5 in .\\dl_project\\lib\\site-packages (from requests->dash) (3.4)\n",
      "Requirement already satisfied: urllib3<3,>=1.21.1 in .\\dl_project\\lib\\site-packages (from requests->dash) (1.26.17)\n",
      "Requirement already satisfied: certifi>=2017.4.17 in .\\dl_project\\lib\\site-packages (from requests->dash) (2023.7.22)\n",
      "Requirement already satisfied: six>=1.7.0 in .\\dl_project\\lib\\site-packages (from retrying->dash) (1.16.0)\n",
      "Requirement already satisfied: colorama in .\\dl_project\\lib\\site-packages (from click>=8.0->Flask<3.1,>=1.0.4->dash) (0.4.6)\n",
      "Using cached dash-2.14.1-py3-none-any.whl (10.4 MB)\n",
      "Downloading plotly-5.18.0-py3-none-any.whl (15.6 MB)\n",
      "   ---------------------------------------- 15.6/15.6 MB 40.9 MB/s eta 0:00:00\n",
      "Using cached tenacity-8.2.3-py3-none-any.whl (24 kB)\n",
      "Installing collected packages: dash-table, dash-html-components, dash-core-components, tenacity, retrying, itsdangerous, plotly, ansi2html, Flask, dash\n",
      "Successfully installed Flask-2.2.5 ansi2html-1.8.0 dash-2.14.1 dash-core-components-2.0.0 dash-html-components-2.0.0 dash-table-5.0.0 itsdangerous-2.1.2 plotly-5.18.0 retrying-1.3.4 tenacity-8.2.3\n",
      "Collecting dashNote: you may need to restart the kernel to use updated packages.\n",
      "\n",
      "  Obtaining dependency information for dash from https://files.pythonhosted.org/packages/00/69/d0ee9c6524678e98d336464d5c898182794c6b2ba1e5507bc7010a126ce2/dash-2.14.1-py3-none-any.whl.metadata\n",
      "  Using cached dash-2.14.1-py3-none-any.whl.metadata (11 kB)\n",
      "Requirement already satisfied: Flask<3.1,>=1.0.4 in .\\dl_project\\lib\\site-packages (from dash) (2.2.5)\n",
      "Requirement already satisfied: Werkzeug<3.1 in .\\dl_project\\lib\\site-packages (from dash) (2.2.3)\n",
      "Requirement already satisfied: plotly>=5.0.0 in .\\dl_project\\lib\\site-packages (from dash) (5.18.0)\n",
      "Requirement already satisfied: dash-html-components==2.0.0 in .\\dl_project\\lib\\site-packages (from dash) (2.0.0)\n",
      "Requirement already satisfied: dash-core-components==2.0.0 in .\\dl_project\\lib\\site-packages (from dash) (2.0.0)\n",
      "Requirement already satisfied: dash-table==5.0.0 in .\\dl_project\\lib\\site-packages (from dash) (5.0.0)\n",
      "Requirement already satisfied: typing-extensions>=4.1.1 in .\\dl_project\\lib\\site-packages (from dash) (4.1.1)\n",
      "Requirement already satisfied: requests in .\\dl_project\\lib\\site-packages (from dash) (2.31.0)\n",
      "Requirement already satisfied: retrying in .\\dl_project\\lib\\site-packages (from dash) (1.3.4)\n",
      "Requirement already satisfied: ansi2html in .\\dl_project\\lib\\site-packages (from dash) (1.8.0)\n",
      "Requirement already satisfied: nest-asyncio in .\\dl_project\\lib\\site-packages (from dash) (1.5.8)\n",
      "Requirement already satisfied: setuptools in .\\dl_project\\lib\\site-packages (from dash) (68.2.2)\n",
      "Requirement already satisfied: importlib-metadata in .\\dl_project\\lib\\site-packages (from dash) (6.7.0)\n",
      "Requirement already satisfied: Jinja2>=3.0 in .\\dl_project\\lib\\site-packages (from Flask<3.1,>=1.0.4->dash) (3.1.2)\n",
      "Requirement already satisfied: itsdangerous>=2.0 in .\\dl_project\\lib\\site-packages (from Flask<3.1,>=1.0.4->dash) (2.1.2)\n",
      "Requirement already satisfied: click>=8.0 in .\\dl_project\\lib\\site-packages (from Flask<3.1,>=1.0.4->dash) (8.1.7)\n",
      "Requirement already satisfied: zipp>=0.5 in .\\dl_project\\lib\\site-packages (from importlib-metadata->dash) (3.15.0)\n",
      "Requirement already satisfied: tenacity>=6.2.0 in .\\dl_project\\lib\\site-packages (from plotly>=5.0.0->dash) (8.2.3)\n",
      "Requirement already satisfied: packaging in .\\dl_project\\lib\\site-packages (from plotly>=5.0.0->dash) (23.2)\n",
      "Requirement already satisfied: MarkupSafe>=2.1.1 in .\\dl_project\\lib\\site-packages (from Werkzeug<3.1->dash) (2.1.3)\n",
      "Requirement already satisfied: charset-normalizer<4,>=2 in .\\dl_project\\lib\\site-packages (from requests->dash) (3.3.0)\n",
      "Requirement already satisfied: idna<4,>=2.5 in .\\dl_project\\lib\\site-packages (from requests->dash) (3.4)\n",
      "Requirement already satisfied: urllib3<3,>=1.21.1 in .\\dl_project\\lib\\site-packages (from requests->dash) (1.26.17)\n",
      "Requirement already satisfied: certifi>=2017.4.17 in .\\dl_project\\lib\\site-packages (from requests->dash) (2023.7.22)\n",
      "Requirement already satisfied: six>=1.7.0 in .\\dl_project\\lib\\site-packages (from retrying->dash) (1.16.0)\n",
      "Requirement already satisfied: colorama in .\\dl_project\\lib\\site-packages (from click>=8.0->Flask<3.1,>=1.0.4->dash) (0.4.6)\n",
      "Using cached dash-2.14.1-py3-none-any.whl (10.4 MB)\n",
      "Installing collected packages: dash\n",
      "Successfully installed dash-2.14.1\n"
     ]
    }
   ],
   "source": [
    "%pip install dash"
   ]
  },
  {
   "cell_type": "code",
   "execution_count": null,
   "metadata": {},
   "outputs": [],
   "source": []
  }
 ],
 "metadata": {
  "kernelspec": {
   "display_name": "Python 3",
   "language": "python",
   "name": "python3"
  },
  "language_info": {
   "codemirror_mode": {
    "name": "ipython",
    "version": 3
   },
   "file_extension": ".py",
   "mimetype": "text/x-python",
   "name": "python",
   "nbconvert_exporter": "python",
   "pygments_lexer": "ipython3",
   "version": "3.7.12"
  }
 },
 "nbformat": 4,
 "nbformat_minor": 2
}
