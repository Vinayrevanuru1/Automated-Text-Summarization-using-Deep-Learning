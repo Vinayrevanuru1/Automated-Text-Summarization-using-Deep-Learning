{
 "cells": [
  {
   "cell_type": "code",
   "execution_count": 6,
   "metadata": {},
   "outputs": [],
   "source": [
    "import datasets  #(1.13.3)\n",
    "import pandas as pd  #(0.25.1)\n",
    "import numpy  #(1.16.4)\n",
    "## for plotting\n",
    "import matplotlib.pyplot as plt  #(3.1.2)\n",
    "import seaborn as sns  #(0.9.0)\n",
    "## for preprocessing\n",
    "import re\n",
    "import nltk  #(3.4.5)\n",
    "import contractions  #(0.0.18)\n",
    "## for textrank\n",
    "import gensim  #(3.8.1)\n",
    "## for evaluation\n",
    "import rouge  #(1.0.0)\n",
    "import difflib\n",
    "## for seq2seq\n",
    "from keras import callbacks, models, layers, preprocessing as kprocessing #(2.6.0)\n",
    "## for bart\n",
    "import transformers"
   ]
  },
  {
   "cell_type": "code",
   "execution_count": 7,
   "metadata": {},
   "outputs": [],
   "source": [
    "df =  pd.read_csv('cnn_dataset/test.csv')"
   ]
  },
  {
   "cell_type": "code",
   "execution_count": 10,
   "metadata": {},
   "outputs": [
    {
     "data": {
      "text/plain": [
       "(11490, 3)"
      ]
     },
     "execution_count": 10,
     "metadata": {},
     "output_type": "execute_result"
    }
   ],
   "source": [
    "df.sh"
   ]
  },
  {
   "cell_type": "code",
   "execution_count": 11,
   "metadata": {},
   "outputs": [
    {
     "name": "stdout",
     "output_type": "stream",
     "text": [
      "<class 'pandas.core.frame.DataFrame'>\n",
      "RangeIndex: 11490 entries, 0 to 11489\n",
      "Data columns (total 3 columns):\n",
      " #   Column      Non-Null Count  Dtype \n",
      "---  ------      --------------  ----- \n",
      " 0   article     11490 non-null  object\n",
      " 1   highlights  11490 non-null  object\n",
      " 2   id          11490 non-null  object\n",
      "dtypes: object(3)\n",
      "memory usage: 269.4+ KB\n"
     ]
    }
   ],
   "source": [
    "df.info()"
   ]
  },
  {
   "cell_type": "code",
   "execution_count": 15,
   "metadata": {},
   "outputs": [],
   "source": [
    "df.rename(columns={'article': 'text', 'highlights': 'y'}, inplace=True)"
   ]
  },
  {
   "cell_type": "code",
   "execution_count": 17,
   "metadata": {},
   "outputs": [],
   "source": [
    "## create stopwords\n",
    "lst_stopwords = nltk.corpus.stopwords.words(\"english\")\n",
    "## add words that are too frequent\n",
    "lst_stopwords = lst_stopwords + [\"cnn\",\"say\",\"said\",\"new\"]\n",
    "\n",
    "## cleaning function\n",
    "def utils_preprocess_text(txt, punkt=True, lower=True, slang=True, lst_stopwords=None, stemm=False, lemm=True):\n",
    "    ### separate sentences with '. '\n",
    "    txt = re.sub(r'\\.(?=[^ \\W\\d])', '. ', str(txt))\n",
    "    ### remove punctuations and characters\n",
    "    txt = re.sub(r'[^\\w\\s]', '', txt) if punkt is True else txt\n",
    "    ### strip\n",
    "    txt = \" \".join([word.strip() for word in txt.split()])\n",
    "    ### lowercase\n",
    "    txt = txt.lower() if lower is True else txt\n",
    "    ### slang\n",
    "    txt = contractions.fix(txt) if slang is True else txt   \n",
    "    ### tokenize (convert from string to list)\n",
    "    lst_txt = txt.split()\n",
    "    ### stemming (remove -ing, -ly, ...)\n",
    "    if stemm is True:\n",
    "        ps = nltk.stem.porter.PorterStemmer()\n",
    "        lst_txt = [ps.stem(word) for word in lst_txt]\n",
    "    ### lemmatization (convert the word into root word)\n",
    "    if lemm is True:\n",
    "        lem = nltk.stem.wordnet.WordNetLemmatizer()\n",
    "        lst_txt = [lem.lemmatize(word) for word in lst_txt]\n",
    "    ### remove Stopwords\n",
    "    if lst_stopwords is not None:\n",
    "        lst_txt = [word for word in lst_txt if word not in \n",
    "                   lst_stopwords]\n",
    "    ### back to string\n",
    "    txt = \" \".join(lst_txt)\n",
    "    return txt\n",
    "\n",
    "## apply function to both text and summaries\n",
    "df[\"text_clean\"] = df[\"text\"].apply(lambda x: utils_preprocess_text(x, punkt=True, lower=True, slang=True, lst_stopwords=lst_stopwords, stemm=False, lemm=True))\n",
    "df[\"y_clean\"] = df[\"y\"].apply(lambda x: utils_preprocess_text(x, punkt=True, lower=True, slang=True, lst_stopwords=lst_stopwords, stemm=False, lemm=True))"
   ]
  },
  {
   "cell_type": "code",
   "execution_count": 18,
   "metadata": {},
   "outputs": [
    {
     "data": {
      "text/html": [
       "<div>\n",
       "<style scoped>\n",
       "    .dataframe tbody tr th:only-of-type {\n",
       "        vertical-align: middle;\n",
       "    }\n",
       "\n",
       "    .dataframe tbody tr th {\n",
       "        vertical-align: top;\n",
       "    }\n",
       "\n",
       "    .dataframe thead th {\n",
       "        text-align: right;\n",
       "    }\n",
       "</style>\n",
       "<table border=\"1\" class=\"dataframe\">\n",
       "  <thead>\n",
       "    <tr style=\"text-align: right;\">\n",
       "      <th></th>\n",
       "      <th>text</th>\n",
       "      <th>y</th>\n",
       "      <th>id</th>\n",
       "      <th>text_clean</th>\n",
       "      <th>y_clean</th>\n",
       "    </tr>\n",
       "  </thead>\n",
       "  <tbody>\n",
       "    <tr>\n",
       "      <th>0</th>\n",
       "      <td>(CNN)The Palestinian Authority officially beca...</td>\n",
       "      <td>Membership gives the ICC jurisdiction over all...</td>\n",
       "      <td>f001ec5c4704938247d27a44948eebb37ae98d01</td>\n",
       "      <td>cnnthe palestinian authority officially became...</td>\n",
       "      <td>membership give icc jurisdiction alleged crime...</td>\n",
       "    </tr>\n",
       "    <tr>\n",
       "      <th>1</th>\n",
       "      <td>(CNN)Never mind cats having nine lives. A stra...</td>\n",
       "      <td>Theia, a bully breed mix, was apparently hit b...</td>\n",
       "      <td>230c522854991d053fe98a718b1defa077a8efef</td>\n",
       "      <td>cnnnever mind cat nine life stray pooch washin...</td>\n",
       "      <td>theia bully breed mix wa apparently hit car wh...</td>\n",
       "    </tr>\n",
       "    <tr>\n",
       "      <th>2</th>\n",
       "      <td>(CNN)If you've been following the news lately,...</td>\n",
       "      <td>Mohammad Javad Zarif has spent more time with ...</td>\n",
       "      <td>4495ba8f3a340d97a9df1476f8a35502bcce1f69</td>\n",
       "      <td>cnnif following news lately certain thing doub...</td>\n",
       "      <td>mohammad javad zarif ha spent time john kerry ...</td>\n",
       "    </tr>\n",
       "    <tr>\n",
       "      <th>3</th>\n",
       "      <td>(CNN)Five Americans who were monitored for thr...</td>\n",
       "      <td>17 Americans were exposed to the Ebola virus w...</td>\n",
       "      <td>a38e72fed88684ec8d60dd5856282e999dc8c0ca</td>\n",
       "      <td>cnnfive american monitored three week omaha ne...</td>\n",
       "      <td>17 american exposed ebola virus sierra leone m...</td>\n",
       "    </tr>\n",
       "    <tr>\n",
       "      <th>4</th>\n",
       "      <td>(CNN)A Duke student has admitted to hanging a ...</td>\n",
       "      <td>Student is no longer on Duke University campus...</td>\n",
       "      <td>c27cf1b136cc270023de959e7ab24638021bc43f</td>\n",
       "      <td>cnna duke student ha admitted hanging noose ma...</td>\n",
       "      <td>student longer duke university campus face dis...</td>\n",
       "    </tr>\n",
       "    <tr>\n",
       "      <th>...</th>\n",
       "      <td>...</td>\n",
       "      <td>...</td>\n",
       "      <td>...</td>\n",
       "      <td>...</td>\n",
       "      <td>...</td>\n",
       "    </tr>\n",
       "    <tr>\n",
       "      <th>11485</th>\n",
       "      <td>Telecom watchdogs are to stop a rip-off that a...</td>\n",
       "      <td>Operators are charging up to 20p a minute - ev...</td>\n",
       "      <td>0ac776a4dc09ca97c136f4314fed4defb48a361a</td>\n",
       "      <td>telecom watchdog stop ripoff allows mobile pho...</td>\n",
       "      <td>operator charging 20p minute even 0800 number ...</td>\n",
       "    </tr>\n",
       "    <tr>\n",
       "      <th>11486</th>\n",
       "      <td>The chilling reenactment of how executions are...</td>\n",
       "      <td>Bali Nine ringleaders will face the firing squ...</td>\n",
       "      <td>fe89a6a2e28d173e5ad4c6d814c15b95aa969e3f</td>\n",
       "      <td>chilling reenactment execution carried indones...</td>\n",
       "      <td>bali nine ringleader face firing squad midnigh...</td>\n",
       "    </tr>\n",
       "    <tr>\n",
       "      <th>11487</th>\n",
       "      <td>It is a week which has seen him in deep water ...</td>\n",
       "      <td>Hardy was convicted of domestic abuse against ...</td>\n",
       "      <td>ded2f535cd6ab95d11b5f4ea29bbf2b2d3c55c50</td>\n",
       "      <td>week ha seen deep water pitch day dallas cowbo...</td>\n",
       "      <td>hardy wa convicted domestic abuse exgirlfriend...</td>\n",
       "    </tr>\n",
       "    <tr>\n",
       "      <th>11488</th>\n",
       "      <td>Despite the hype surrounding its first watch, ...</td>\n",
       "      <td>Apple sold more than 61 million iPhones in the...</td>\n",
       "      <td>30ec5f280eee772a73d181bfc8514defd8026434</td>\n",
       "      <td>despite hype surrounding first watch iphone st...</td>\n",
       "      <td>apple sold 61 million iphones quarter apple re...</td>\n",
       "    </tr>\n",
       "    <tr>\n",
       "      <th>11489</th>\n",
       "      <td>Angus Hawley's brother has spoken of his shock...</td>\n",
       "      <td>Angus Hawley's brother said his late sibling '...</td>\n",
       "      <td>b4a1738c4a0acdf3d189264a0927005aa5b856d6</td>\n",
       "      <td>angus hawleys brother ha spoken shock brother ...</td>\n",
       "      <td>angus hawleys brother late sibling heart probl...</td>\n",
       "    </tr>\n",
       "  </tbody>\n",
       "</table>\n",
       "<p>11490 rows × 5 columns</p>\n",
       "</div>"
      ],
      "text/plain": [
       "                                                    text  \\\n",
       "0      (CNN)The Palestinian Authority officially beca...   \n",
       "1      (CNN)Never mind cats having nine lives. A stra...   \n",
       "2      (CNN)If you've been following the news lately,...   \n",
       "3      (CNN)Five Americans who were monitored for thr...   \n",
       "4      (CNN)A Duke student has admitted to hanging a ...   \n",
       "...                                                  ...   \n",
       "11485  Telecom watchdogs are to stop a rip-off that a...   \n",
       "11486  The chilling reenactment of how executions are...   \n",
       "11487  It is a week which has seen him in deep water ...   \n",
       "11488  Despite the hype surrounding its first watch, ...   \n",
       "11489  Angus Hawley's brother has spoken of his shock...   \n",
       "\n",
       "                                                       y  \\\n",
       "0      Membership gives the ICC jurisdiction over all...   \n",
       "1      Theia, a bully breed mix, was apparently hit b...   \n",
       "2      Mohammad Javad Zarif has spent more time with ...   \n",
       "3      17 Americans were exposed to the Ebola virus w...   \n",
       "4      Student is no longer on Duke University campus...   \n",
       "...                                                  ...   \n",
       "11485  Operators are charging up to 20p a minute - ev...   \n",
       "11486  Bali Nine ringleaders will face the firing squ...   \n",
       "11487  Hardy was convicted of domestic abuse against ...   \n",
       "11488  Apple sold more than 61 million iPhones in the...   \n",
       "11489  Angus Hawley's brother said his late sibling '...   \n",
       "\n",
       "                                             id  \\\n",
       "0      f001ec5c4704938247d27a44948eebb37ae98d01   \n",
       "1      230c522854991d053fe98a718b1defa077a8efef   \n",
       "2      4495ba8f3a340d97a9df1476f8a35502bcce1f69   \n",
       "3      a38e72fed88684ec8d60dd5856282e999dc8c0ca   \n",
       "4      c27cf1b136cc270023de959e7ab24638021bc43f   \n",
       "...                                         ...   \n",
       "11485  0ac776a4dc09ca97c136f4314fed4defb48a361a   \n",
       "11486  fe89a6a2e28d173e5ad4c6d814c15b95aa969e3f   \n",
       "11487  ded2f535cd6ab95d11b5f4ea29bbf2b2d3c55c50   \n",
       "11488  30ec5f280eee772a73d181bfc8514defd8026434   \n",
       "11489  b4a1738c4a0acdf3d189264a0927005aa5b856d6   \n",
       "\n",
       "                                              text_clean  \\\n",
       "0      cnnthe palestinian authority officially became...   \n",
       "1      cnnnever mind cat nine life stray pooch washin...   \n",
       "2      cnnif following news lately certain thing doub...   \n",
       "3      cnnfive american monitored three week omaha ne...   \n",
       "4      cnna duke student ha admitted hanging noose ma...   \n",
       "...                                                  ...   \n",
       "11485  telecom watchdog stop ripoff allows mobile pho...   \n",
       "11486  chilling reenactment execution carried indones...   \n",
       "11487  week ha seen deep water pitch day dallas cowbo...   \n",
       "11488  despite hype surrounding first watch iphone st...   \n",
       "11489  angus hawleys brother ha spoken shock brother ...   \n",
       "\n",
       "                                                 y_clean  \n",
       "0      membership give icc jurisdiction alleged crime...  \n",
       "1      theia bully breed mix wa apparently hit car wh...  \n",
       "2      mohammad javad zarif ha spent time john kerry ...  \n",
       "3      17 american exposed ebola virus sierra leone m...  \n",
       "4      student longer duke university campus face dis...  \n",
       "...                                                  ...  \n",
       "11485  operator charging 20p minute even 0800 number ...  \n",
       "11486  bali nine ringleader face firing squad midnigh...  \n",
       "11487  hardy wa convicted domestic abuse exgirlfriend...  \n",
       "11488  apple sold 61 million iphones quarter apple re...  \n",
       "11489  angus hawleys brother late sibling heart probl...  \n",
       "\n",
       "[11490 rows x 5 columns]"
      ]
     },
     "execution_count": 18,
     "metadata": {},
     "output_type": "execute_result"
    }
   ],
   "source": []
  },
  {
   "cell_type": "code",
   "execution_count": 21,
   "metadata": {},
   "outputs": [
    {
     "name": "stderr",
     "output_type": "stream",
     "text": [
      "f:\\deeplearning_project\\dl_project\\lib\\site-packages\\ipykernel_launcher.py:4: UserWarning: \n",
      "\n",
      "`distplot` is a deprecated function and will be removed in seaborn v0.14.0.\n",
      "\n",
      "Please adapt your code to use either `displot` (a figure-level function with\n",
      "similar flexibility) or `histplot` (an axes-level function for histograms).\n",
      "\n",
      "For a guide to updating your code to use the new functions, please see\n",
      "https://gist.github.com/mwaskom/de44147ed2974457ad6372750bbe5751\n",
      "\n",
      "  after removing the cwd from sys.path.\n",
      "f:\\deeplearning_project\\dl_project\\lib\\site-packages\\seaborn\\distributions.py:2511: FutureWarning: \n",
      "\n",
      "`shade` is now deprecated in favor of `fill`; setting `fill=True`.\n",
      "This will become an error in seaborn v0.14.0; please update your code.\n",
      "\n",
      "  kdeplot(**{axis: a}, ax=ax, color=kde_color, **kde_kws)\n"
     ]
    },
    {
     "data": {
      "text/plain": [
       "<AxesSubplot:xlabel='word_count', ylabel='Density'>"
      ]
     },
     "execution_count": 21,
     "metadata": {},
     "output_type": "execute_result"
    },
    {
     "data": {
      "image/png": "[encoded data removed]",
      "text/plain": [
       "<Figure size 640x480 with 1 Axes>"
      ]
     },
     "metadata": {},
     "output_type": "display_data"
    }
   ],
   "source": [
    "## count\n",
    "df['word_count'] = df[\"text\"].apply(lambda x: len(nltk.word_tokenize(str(x))) )\n",
    "## plot\n",
    "sns.distplot(df[\"word_count\"], hist=True, kde=True, kde_kws={\"shade\":True})"
   ]
  },
  {
   "cell_type": "code",
   "execution_count": 23,
   "metadata": {},
   "outputs": [
    {
     "name": "stderr",
     "output_type": "stream",
     "text": [
      "f:\\deeplearning_project\\dl_project\\lib\\site-packages\\ipykernel_launcher.py:18: FutureWarning: Indexing with multiple keys (implicitly converted to a tuple of keys) will be deprecated, use a list instead.\n"
     ]
    },
    {
     "data": {
      "image/png": "[encoded data removed]",
      "text/plain": [
       "<Figure size 640x480 with 1 Axes>"
      ]
     },
     "metadata": {},
     "output_type": "display_data"
    }
   ],
   "source": [
    "lst_tokens = nltk.tokenize.word_tokenize(df[\"text_clean\"].str.cat(sep=\" \"))\n",
    "ngrams = [1]\n",
    "    \n",
    "## calculate\n",
    "dtf_freq = pd.DataFrame()\n",
    "for n in ngrams:\n",
    "   dic_words_freq = nltk.FreqDist(nltk.ngrams(lst_tokens, n))\n",
    "   dtf_n = pd.DataFrame(dic_words_freq.most_common(), columns=\n",
    "                        [\"word\",\"freq\"])\n",
    "   dtf_n[\"ngrams\"] = n\n",
    "   dtf_freq = dtf_freq.append(dtf_n)\n",
    "   dtf_freq[\"word\"] = dtf_freq[\"word\"].apply(lambda x: \" \".join(string for string in x) )\n",
    "   dtf_freq_X= dtf_freq.sort_values([\"ngrams\",\"freq\"], ascending=\n",
    "                         [True,False])\n",
    "    \n",
    "## plot\n",
    "sns.barplot(x=\"freq\", y=\"word\", hue=\"ngrams\", dodge=False,\n",
    " data=dtf_freq.groupby('ngrams')[\"ngrams\",\"freq\",\"word\"].head(30))\n",
    "plt.show()"
   ]
  },
  {
   "cell_type": "code",
   "execution_count": null,
   "metadata": {},
   "outputs": [],
   "source": []
  }
 ],
 "metadata": {
  "kernelspec": {
   "display_name": "Python 3",
   "language": "python",
   "name": "python3"
  },
  "language_info": {
   "codemirror_mode": {
    "name": "ipython",
    "version": 3
   },
   "file_extension": ".py",
   "mimetype": "text/x-python",
   "name": "python",
   "nbconvert_exporter": "python",
   "pygments_lexer": "ipython3",
   "version": "3.7.12"
  }
 },
 "nbformat": 4,
 "nbformat_minor": 2
}
